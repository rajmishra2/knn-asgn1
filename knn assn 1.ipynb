{
 "cells": [
  {
   "cell_type": "markdown",
   "id": "0e7d17f5-449b-4f92-b871-8f3d3fa16779",
   "metadata": {},
   "source": [
    "Q1. What is the KNN algorithm?\n",
    "The k-nearest neighbors (KNN) algorithm is a non-parametric, supervised learning classifier, which uses proximity to make classifications or predictions about the grouping of an individual data point. It is one of the popular and simplest classification and regression classifiers used in machine learning today"
   ]
  },
  {
   "cell_type": "markdown",
   "id": "7f02cf94-9500-4685-a4e5-c6e33596f47b",
   "metadata": {},
   "source": [
    "Q2. How do you choose the value of K in KNN?\n",
    "To select the value of K that fits your data, we run the KNN algorithm multiple times with different K values. We'll use accuracy as the metric for evaluating K performance. If the value of accuracy changes proportionally to the change in K, then it's a good candidate for our K value"
   ]
  },
  {
   "cell_type": "markdown",
   "id": "5c7a1900-2562-4c7c-88e4-649fb4f0385f",
   "metadata": {},
   "source": [
    "Q3. What is the difference between KNN classifier and KNN regressor?\n",
    "In the case of classification, the algorithm assigns the most common class label among the K neighbors as the predicted label for the input data point. For regression, it calculates the average or weighted average of the target values of the K neighbors to predict the value for the input data point."
   ]
  },
  {
   "cell_type": "markdown",
   "id": "493d2227-74cf-45e3-adf1-900f7b8d5a6a",
   "metadata": {},
   "source": [
    "Q4. How do you measure the performance of KNN?\n",
    "The test data is used to evaluate the performance of the model. The model is tested on the test data by using it to make predictions and comparing these predictions to the actual target values. When training a kNN classifier, it's essential to normalize the features."
   ]
  },
  {
   "cell_type": "markdown",
   "id": "f1f641ce-906a-4306-a6f0-2fd471dd0290",
   "metadata": {},
   "source": [
    "Q5. What is the curse of dimensionality in KNN?\n",
    "The Curse of Dimensionality refers to the various challenges and complications that arise when analyzing and organizing data in high-dimensional spaces"
   ]
  },
  {
   "cell_type": "markdown",
   "id": "83cc088a-e07d-4e52-bfdc-ce4045eb3a6c",
   "metadata": {},
   "source": [
    "Q6. How do you handle missing values in KNN?\n",
    "The KNN Imputer is applied to fill in the missing values in the selected data. The n_neighbors parameter is set to 5, meaning the imputer will use the mean value of the 5 nearest neighbors to impute the missing value"
   ]
  },
  {
   "cell_type": "markdown",
   "id": "77153fd8-fae8-46a3-b248-feb89b94c8ec",
   "metadata": {},
   "source": [
    "Q7. Compare and contrast the performance of the KNN classifier and regressor. Which one is better for\n",
    "which type of problem?\n",
    "What is the difference between KNN classifier and KNN regressor?\n",
    "KNN regression tries to predict the value of the output variable by using a local average. KNN classification attempts to predict the class to which the output variable belong by computing the local probability."
   ]
  },
  {
   "cell_type": "markdown",
   "id": "55846bde-3dae-49e5-b50d-bca1c7bad903",
   "metadata": {},
   "source": [
    "Q8. What are the strengths and weaknesses of the KNN algorithm for classification and regression tasks,\n",
    "and how can these be addressed?\n",
    "1 Advantage 1: Easy to implement and understand. ...\n",
    "2 Advantage 2: Lazy learning and no assumptions. ...\n",
    "3 Disadvantage 1: High memory and computational cost. ...\n",
    "4 Disadvantage 2: Choice of k and distance metric. ...\n",
    "5 Disadvantage 3: Imbalanced classes and missing values. ."
   ]
  },
  {
   "cell_type": "code",
   "execution_count": null,
   "id": "e91f119f-aec8-4bbb-90e6-3d9bdc104648",
   "metadata": {},
   "outputs": [],
   "source": [
    "Q9. What is the difference between Euclidean distance and Manhattan distance in KNN?"
   ]
  }
 ],
 "metadata": {
  "kernelspec": {
   "display_name": "Python 3 (ipykernel)",
   "language": "python",
   "name": "python3"
  },
  "language_info": {
   "codemirror_mode": {
    "name": "ipython",
    "version": 3
   },
   "file_extension": ".py",
   "mimetype": "text/x-python",
   "name": "python",
   "nbconvert_exporter": "python",
   "pygments_lexer": "ipython3",
   "version": "3.10.8"
  }
 },
 "nbformat": 4,
 "nbformat_minor": 5
}
